{
 "cells": [
  {
   "cell_type": "code",
   "execution_count": 2,
   "id": "3052bc00",
   "metadata": {},
   "outputs": [],
   "source": [
    "import numpy as np\n",
    "import pandas as pd\n",
    "import dataframe as df\n",
    "\n",
    "edu_df=pd.read_csv(\"states_all.csv\")"
   ]
  },
  {
   "cell_type": "code",
   "execution_count": 3,
   "id": "26f6f547",
   "metadata": {},
   "outputs": [
    {
     "data": {
      "text/html": [
       "<div>\n",
       "<style scoped>\n",
       "    .dataframe tbody tr th:only-of-type {\n",
       "        vertical-align: middle;\n",
       "    }\n",
       "\n",
       "    .dataframe tbody tr th {\n",
       "        vertical-align: top;\n",
       "    }\n",
       "\n",
       "    .dataframe thead th {\n",
       "        text-align: right;\n",
       "    }\n",
       "</style>\n",
       "<table border=\"1\" class=\"dataframe\">\n",
       "  <thead>\n",
       "    <tr style=\"text-align: right;\">\n",
       "      <th></th>\n",
       "      <th>PRIMARY_KEY</th>\n",
       "      <th>STATE</th>\n",
       "      <th>YEAR</th>\n",
       "      <th>ENROLL</th>\n",
       "      <th>TOTAL_REVENUE</th>\n",
       "      <th>FEDERAL_REVENUE</th>\n",
       "      <th>STATE_REVENUE</th>\n",
       "      <th>LOCAL_REVENUE</th>\n",
       "      <th>TOTAL_EXPENDITURE</th>\n",
       "      <th>INSTRUCTION_EXPENDITURE</th>\n",
       "      <th>...</th>\n",
       "      <th>GRADES_4_G</th>\n",
       "      <th>GRADES_8_G</th>\n",
       "      <th>GRADES_12_G</th>\n",
       "      <th>GRADES_1_8_G</th>\n",
       "      <th>GRADES_9_12_G</th>\n",
       "      <th>GRADES_ALL_G</th>\n",
       "      <th>AVG_MATH_4_SCORE</th>\n",
       "      <th>AVG_MATH_8_SCORE</th>\n",
       "      <th>AVG_READING_4_SCORE</th>\n",
       "      <th>AVG_READING_8_SCORE</th>\n",
       "    </tr>\n",
       "  </thead>\n",
       "  <tbody>\n",
       "    <tr>\n",
       "      <th>0</th>\n",
       "      <td>False</td>\n",
       "      <td>False</td>\n",
       "      <td>False</td>\n",
       "      <td>True</td>\n",
       "      <td>False</td>\n",
       "      <td>False</td>\n",
       "      <td>False</td>\n",
       "      <td>False</td>\n",
       "      <td>False</td>\n",
       "      <td>False</td>\n",
       "      <td>...</td>\n",
       "      <td>False</td>\n",
       "      <td>False</td>\n",
       "      <td>False</td>\n",
       "      <td>True</td>\n",
       "      <td>True</td>\n",
       "      <td>False</td>\n",
       "      <td>False</td>\n",
       "      <td>False</td>\n",
       "      <td>False</td>\n",
       "      <td>True</td>\n",
       "    </tr>\n",
       "    <tr>\n",
       "      <th>1</th>\n",
       "      <td>False</td>\n",
       "      <td>False</td>\n",
       "      <td>False</td>\n",
       "      <td>True</td>\n",
       "      <td>False</td>\n",
       "      <td>False</td>\n",
       "      <td>False</td>\n",
       "      <td>False</td>\n",
       "      <td>False</td>\n",
       "      <td>False</td>\n",
       "      <td>...</td>\n",
       "      <td>False</td>\n",
       "      <td>False</td>\n",
       "      <td>False</td>\n",
       "      <td>True</td>\n",
       "      <td>True</td>\n",
       "      <td>False</td>\n",
       "      <td>True</td>\n",
       "      <td>True</td>\n",
       "      <td>True</td>\n",
       "      <td>True</td>\n",
       "    </tr>\n",
       "    <tr>\n",
       "      <th>2</th>\n",
       "      <td>False</td>\n",
       "      <td>False</td>\n",
       "      <td>False</td>\n",
       "      <td>True</td>\n",
       "      <td>False</td>\n",
       "      <td>False</td>\n",
       "      <td>False</td>\n",
       "      <td>False</td>\n",
       "      <td>False</td>\n",
       "      <td>False</td>\n",
       "      <td>...</td>\n",
       "      <td>False</td>\n",
       "      <td>False</td>\n",
       "      <td>False</td>\n",
       "      <td>True</td>\n",
       "      <td>True</td>\n",
       "      <td>False</td>\n",
       "      <td>False</td>\n",
       "      <td>False</td>\n",
       "      <td>False</td>\n",
       "      <td>True</td>\n",
       "    </tr>\n",
       "    <tr>\n",
       "      <th>3</th>\n",
       "      <td>False</td>\n",
       "      <td>False</td>\n",
       "      <td>False</td>\n",
       "      <td>True</td>\n",
       "      <td>False</td>\n",
       "      <td>False</td>\n",
       "      <td>False</td>\n",
       "      <td>False</td>\n",
       "      <td>False</td>\n",
       "      <td>False</td>\n",
       "      <td>...</td>\n",
       "      <td>False</td>\n",
       "      <td>False</td>\n",
       "      <td>False</td>\n",
       "      <td>True</td>\n",
       "      <td>True</td>\n",
       "      <td>False</td>\n",
       "      <td>False</td>\n",
       "      <td>False</td>\n",
       "      <td>False</td>\n",
       "      <td>True</td>\n",
       "    </tr>\n",
       "    <tr>\n",
       "      <th>4</th>\n",
       "      <td>False</td>\n",
       "      <td>False</td>\n",
       "      <td>False</td>\n",
       "      <td>True</td>\n",
       "      <td>False</td>\n",
       "      <td>False</td>\n",
       "      <td>False</td>\n",
       "      <td>False</td>\n",
       "      <td>False</td>\n",
       "      <td>False</td>\n",
       "      <td>...</td>\n",
       "      <td>False</td>\n",
       "      <td>False</td>\n",
       "      <td>False</td>\n",
       "      <td>True</td>\n",
       "      <td>True</td>\n",
       "      <td>False</td>\n",
       "      <td>False</td>\n",
       "      <td>False</td>\n",
       "      <td>False</td>\n",
       "      <td>True</td>\n",
       "    </tr>\n",
       "    <tr>\n",
       "      <th>...</th>\n",
       "      <td>...</td>\n",
       "      <td>...</td>\n",
       "      <td>...</td>\n",
       "      <td>...</td>\n",
       "      <td>...</td>\n",
       "      <td>...</td>\n",
       "      <td>...</td>\n",
       "      <td>...</td>\n",
       "      <td>...</td>\n",
       "      <td>...</td>\n",
       "      <td>...</td>\n",
       "      <td>...</td>\n",
       "      <td>...</td>\n",
       "      <td>...</td>\n",
       "      <td>...</td>\n",
       "      <td>...</td>\n",
       "      <td>...</td>\n",
       "      <td>...</td>\n",
       "      <td>...</td>\n",
       "      <td>...</td>\n",
       "      <td>...</td>\n",
       "    </tr>\n",
       "    <tr>\n",
       "      <th>1710</th>\n",
       "      <td>False</td>\n",
       "      <td>False</td>\n",
       "      <td>False</td>\n",
       "      <td>True</td>\n",
       "      <td>True</td>\n",
       "      <td>True</td>\n",
       "      <td>True</td>\n",
       "      <td>True</td>\n",
       "      <td>True</td>\n",
       "      <td>True</td>\n",
       "      <td>...</td>\n",
       "      <td>True</td>\n",
       "      <td>True</td>\n",
       "      <td>True</td>\n",
       "      <td>True</td>\n",
       "      <td>True</td>\n",
       "      <td>True</td>\n",
       "      <td>False</td>\n",
       "      <td>False</td>\n",
       "      <td>False</td>\n",
       "      <td>False</td>\n",
       "    </tr>\n",
       "    <tr>\n",
       "      <th>1711</th>\n",
       "      <td>False</td>\n",
       "      <td>False</td>\n",
       "      <td>False</td>\n",
       "      <td>True</td>\n",
       "      <td>True</td>\n",
       "      <td>True</td>\n",
       "      <td>True</td>\n",
       "      <td>True</td>\n",
       "      <td>True</td>\n",
       "      <td>True</td>\n",
       "      <td>...</td>\n",
       "      <td>True</td>\n",
       "      <td>True</td>\n",
       "      <td>True</td>\n",
       "      <td>True</td>\n",
       "      <td>True</td>\n",
       "      <td>True</td>\n",
       "      <td>False</td>\n",
       "      <td>False</td>\n",
       "      <td>False</td>\n",
       "      <td>False</td>\n",
       "    </tr>\n",
       "    <tr>\n",
       "      <th>1712</th>\n",
       "      <td>False</td>\n",
       "      <td>False</td>\n",
       "      <td>False</td>\n",
       "      <td>True</td>\n",
       "      <td>True</td>\n",
       "      <td>True</td>\n",
       "      <td>True</td>\n",
       "      <td>True</td>\n",
       "      <td>True</td>\n",
       "      <td>True</td>\n",
       "      <td>...</td>\n",
       "      <td>True</td>\n",
       "      <td>True</td>\n",
       "      <td>True</td>\n",
       "      <td>True</td>\n",
       "      <td>True</td>\n",
       "      <td>True</td>\n",
       "      <td>False</td>\n",
       "      <td>False</td>\n",
       "      <td>False</td>\n",
       "      <td>False</td>\n",
       "    </tr>\n",
       "    <tr>\n",
       "      <th>1713</th>\n",
       "      <td>False</td>\n",
       "      <td>False</td>\n",
       "      <td>False</td>\n",
       "      <td>True</td>\n",
       "      <td>True</td>\n",
       "      <td>True</td>\n",
       "      <td>True</td>\n",
       "      <td>True</td>\n",
       "      <td>True</td>\n",
       "      <td>True</td>\n",
       "      <td>...</td>\n",
       "      <td>True</td>\n",
       "      <td>True</td>\n",
       "      <td>True</td>\n",
       "      <td>True</td>\n",
       "      <td>True</td>\n",
       "      <td>True</td>\n",
       "      <td>False</td>\n",
       "      <td>False</td>\n",
       "      <td>False</td>\n",
       "      <td>False</td>\n",
       "    </tr>\n",
       "    <tr>\n",
       "      <th>1714</th>\n",
       "      <td>False</td>\n",
       "      <td>False</td>\n",
       "      <td>False</td>\n",
       "      <td>True</td>\n",
       "      <td>True</td>\n",
       "      <td>True</td>\n",
       "      <td>True</td>\n",
       "      <td>True</td>\n",
       "      <td>True</td>\n",
       "      <td>True</td>\n",
       "      <td>...</td>\n",
       "      <td>True</td>\n",
       "      <td>True</td>\n",
       "      <td>True</td>\n",
       "      <td>True</td>\n",
       "      <td>True</td>\n",
       "      <td>True</td>\n",
       "      <td>False</td>\n",
       "      <td>False</td>\n",
       "      <td>False</td>\n",
       "      <td>False</td>\n",
       "    </tr>\n",
       "  </tbody>\n",
       "</table>\n",
       "<p>1715 rows × 25 columns</p>\n",
       "</div>"
      ],
      "text/plain": [
       "      PRIMARY_KEY  STATE   YEAR  ENROLL  TOTAL_REVENUE  FEDERAL_REVENUE  \\\n",
       "0           False  False  False    True          False            False   \n",
       "1           False  False  False    True          False            False   \n",
       "2           False  False  False    True          False            False   \n",
       "3           False  False  False    True          False            False   \n",
       "4           False  False  False    True          False            False   \n",
       "...           ...    ...    ...     ...            ...              ...   \n",
       "1710        False  False  False    True           True             True   \n",
       "1711        False  False  False    True           True             True   \n",
       "1712        False  False  False    True           True             True   \n",
       "1713        False  False  False    True           True             True   \n",
       "1714        False  False  False    True           True             True   \n",
       "\n",
       "      STATE_REVENUE  LOCAL_REVENUE  TOTAL_EXPENDITURE  \\\n",
       "0             False          False              False   \n",
       "1             False          False              False   \n",
       "2             False          False              False   \n",
       "3             False          False              False   \n",
       "4             False          False              False   \n",
       "...             ...            ...                ...   \n",
       "1710           True           True               True   \n",
       "1711           True           True               True   \n",
       "1712           True           True               True   \n",
       "1713           True           True               True   \n",
       "1714           True           True               True   \n",
       "\n",
       "      INSTRUCTION_EXPENDITURE  ...  GRADES_4_G  GRADES_8_G  GRADES_12_G  \\\n",
       "0                       False  ...       False       False        False   \n",
       "1                       False  ...       False       False        False   \n",
       "2                       False  ...       False       False        False   \n",
       "3                       False  ...       False       False        False   \n",
       "4                       False  ...       False       False        False   \n",
       "...                       ...  ...         ...         ...          ...   \n",
       "1710                     True  ...        True        True         True   \n",
       "1711                     True  ...        True        True         True   \n",
       "1712                     True  ...        True        True         True   \n",
       "1713                     True  ...        True        True         True   \n",
       "1714                     True  ...        True        True         True   \n",
       "\n",
       "      GRADES_1_8_G  GRADES_9_12_G  GRADES_ALL_G  AVG_MATH_4_SCORE  \\\n",
       "0             True           True         False             False   \n",
       "1             True           True         False              True   \n",
       "2             True           True         False             False   \n",
       "3             True           True         False             False   \n",
       "4             True           True         False             False   \n",
       "...            ...            ...           ...               ...   \n",
       "1710          True           True          True             False   \n",
       "1711          True           True          True             False   \n",
       "1712          True           True          True             False   \n",
       "1713          True           True          True             False   \n",
       "1714          True           True          True             False   \n",
       "\n",
       "      AVG_MATH_8_SCORE  AVG_READING_4_SCORE  AVG_READING_8_SCORE  \n",
       "0                False                False                 True  \n",
       "1                 True                 True                 True  \n",
       "2                False                False                 True  \n",
       "3                False                False                 True  \n",
       "4                False                False                 True  \n",
       "...                ...                  ...                  ...  \n",
       "1710             False                False                False  \n",
       "1711             False                False                False  \n",
       "1712             False                False                False  \n",
       "1713             False                False                False  \n",
       "1714             False                False                False  \n",
       "\n",
       "[1715 rows x 25 columns]"
      ]
     },
     "execution_count": 3,
     "metadata": {},
     "output_type": "execute_result"
    }
   ],
   "source": [
    "#Question01\n",
    "edu_df.isnull()"
   ]
  },
  {
   "cell_type": "code",
   "execution_count": 4,
   "id": "695ecc35",
   "metadata": {},
   "outputs": [
    {
     "data": {
      "text/plain": [
       "PRIMARY_KEY                      0.000000\n",
       "STATE                            0.000000\n",
       "YEAR                             0.000000\n",
       "ENROLL                          28.629738\n",
       "TOTAL_REVENUE                   25.655977\n",
       "FEDERAL_REVENUE                 25.655977\n",
       "STATE_REVENUE                   25.655977\n",
       "LOCAL_REVENUE                   25.655977\n",
       "TOTAL_EXPENDITURE               25.655977\n",
       "INSTRUCTION_EXPENDITURE         25.655977\n",
       "SUPPORT_SERVICES_EXPENDITURE    25.655977\n",
       "OTHER_EXPENDITURE               28.629738\n",
       "CAPITAL_OUTLAY_EXPENDITURE      25.655977\n",
       "GRADES_PK_G                     10.087464\n",
       "GRADES_KG_G                      4.839650\n",
       "GRADES_4_G                       4.839650\n",
       "GRADES_8_G                       4.839650\n",
       "GRADES_12_G                      4.839650\n",
       "GRADES_1_8_G                    40.524781\n",
       "GRADES_9_12_G                   37.551020\n",
       "GRADES_ALL_G                     4.839650\n",
       "AVG_MATH_4_SCORE                67.055394\n",
       "AVG_MATH_8_SCORE                64.897959\n",
       "AVG_READING_4_SCORE             62.099125\n",
       "AVG_READING_8_SCORE             67.230321\n",
       "dtype: float64"
      ]
     },
     "execution_count": 4,
     "metadata": {},
     "output_type": "execute_result"
    }
   ],
   "source": [
    "edu_df.isnull().sum()*100/edu_df.shape[0]"
   ]
  },
  {
   "cell_type": "code",
   "execution_count": 5,
   "id": "47b7e2f5",
   "metadata": {},
   "outputs": [
    {
     "data": {
      "text/plain": [
       "AVG_READING_8_SCORE             67.230321\n",
       "AVG_MATH_4_SCORE                67.055394\n",
       "AVG_MATH_8_SCORE                64.897959\n",
       "AVG_READING_4_SCORE             62.099125\n",
       "GRADES_1_8_G                    40.524781\n",
       "GRADES_9_12_G                   37.551020\n",
       "ENROLL                          28.629738\n",
       "OTHER_EXPENDITURE               28.629738\n",
       "SUPPORT_SERVICES_EXPENDITURE    25.655977\n",
       "CAPITAL_OUTLAY_EXPENDITURE      25.655977\n",
       "INSTRUCTION_EXPENDITURE         25.655977\n",
       "TOTAL_EXPENDITURE               25.655977\n",
       "LOCAL_REVENUE                   25.655977\n",
       "STATE_REVENUE                   25.655977\n",
       "FEDERAL_REVENUE                 25.655977\n",
       "TOTAL_REVENUE                   25.655977\n",
       "GRADES_PK_G                     10.087464\n",
       "GRADES_KG_G                      4.839650\n",
       "GRADES_4_G                       4.839650\n",
       "GRADES_8_G                       4.839650\n",
       "dtype: float64"
      ]
     },
     "execution_count": 5,
     "metadata": {},
     "output_type": "execute_result"
    }
   ],
   "source": [
    "(edu_df.isnull().sum()*100/edu_df.shape[0]).sort_values(ascending=False)[:20]"
   ]
  },
  {
   "cell_type": "code",
   "execution_count": 6,
   "id": "676de70f",
   "metadata": {},
   "outputs": [
    {
     "data": {
      "text/plain": [
       "0        8224.0\n",
       "1        2371.0\n",
       "2        2544.0\n",
       "3         808.0\n",
       "4       59067.0\n",
       "         ...   \n",
       "1710        NaN\n",
       "1711        NaN\n",
       "1712        NaN\n",
       "1713        NaN\n",
       "1714        NaN\n",
       "Name: GRADES_PK_G, Length: 1715, dtype: float64"
      ]
     },
     "execution_count": 6,
     "metadata": {},
     "output_type": "execute_result"
    }
   ],
   "source": [
    "#our interest will be focus on Grades_PK_G null value is 10.08%\n",
    "#Question02\n",
    "#Lets consider without year\n",
    "edu_df.GRADES_PK_G\n"
   ]
  },
  {
   "cell_type": "code",
   "execution_count": 7,
   "id": "fe3d1a46",
   "metadata": {},
   "outputs": [
    {
     "data": {
      "text/plain": [
       "count      1542.000000\n",
       "mean      17840.958495\n",
       "std       30016.603510\n",
       "min          96.000000\n",
       "25%        2199.750000\n",
       "50%        8258.000000\n",
       "75%       22691.750000\n",
       "max      256222.000000\n",
       "Name: GRADES_PK_G, dtype: float64"
      ]
     },
     "execution_count": 7,
     "metadata": {},
     "output_type": "execute_result"
    }
   ],
   "source": [
    "#Lets fill with mean value\n",
    "edu_df['GRADES_PK_G'].describe()"
   ]
  },
  {
   "cell_type": "code",
   "execution_count": 12,
   "id": "22d4a46a",
   "metadata": {},
   "outputs": [
    {
     "data": {
      "text/plain": [
       "173"
      ]
     },
     "execution_count": 12,
     "metadata": {},
     "output_type": "execute_result"
    }
   ],
   "source": [
    "edu_df['GRADES_PK_G'].isnull().sum()"
   ]
  },
  {
   "cell_type": "code",
   "execution_count": 8,
   "id": "a181acee",
   "metadata": {},
   "outputs": [],
   "source": [
    "#Totally 173 null records, lets fill with the mean value, 17840.958495\n",
    "edu_df[\"GRADES_PK_G_imputed\"]=edu_df[\"GRADES_PK_G\"].fillna(edu_df[\"GRADES_PK_G\"].mean())"
   ]
  },
  {
   "cell_type": "code",
   "execution_count": 13,
   "id": "59a252f7",
   "metadata": {},
   "outputs": [
    {
     "data": {
      "text/plain": [
       "0"
      ]
     },
     "execution_count": 13,
     "metadata": {},
     "output_type": "execute_result"
    }
   ],
   "source": [
    "edu_df[\"GRADES_PK_G_imputed\"].isnull().sum()"
   ]
  },
  {
   "cell_type": "code",
   "execution_count": 10,
   "id": "0ba3d66d",
   "metadata": {
    "scrolled": true
   },
   "outputs": [
    {
     "data": {
      "text/plain": [
       "count      1715.000000\n",
       "mean      17840.958495\n",
       "std       28461.478658\n",
       "min          96.000000\n",
       "25%        2536.500000\n",
       "50%       10310.000000\n",
       "75%       19689.000000\n",
       "max      256222.000000\n",
       "Name: GRADES_PK_G_imputed, dtype: float64"
      ]
     },
     "execution_count": 10,
     "metadata": {},
     "output_type": "execute_result"
    }
   ],
   "source": [
    "edu_df[\"GRADES_PK_G_imputed\"].describe()"
   ]
  },
  {
   "cell_type": "code",
   "execution_count": null,
   "id": "fca7b978",
   "metadata": {},
   "outputs": [],
   "source": [
    "#Because we updated null value with mean, std value, 25%,50% and 75% values has been updated. As you can see, to be able to\n",
    "#be reasonable with the mean value, updating with mean is more meaningful\n"
   ]
  },
  {
   "cell_type": "code",
   "execution_count": 105,
   "id": "5ce272f1",
   "metadata": {},
   "outputs": [
    {
     "data": {
      "text/plain": [
       "[1986,\n",
       " 1987,\n",
       " 1988,\n",
       " 1989,\n",
       " 1990,\n",
       " 1991,\n",
       " 1992,\n",
       " 1993,\n",
       " 1994,\n",
       " 1995,\n",
       " 1996,\n",
       " 1997,\n",
       " 1998,\n",
       " 1999,\n",
       " 2000,\n",
       " 2001,\n",
       " 2002,\n",
       " 2003,\n",
       " 2004,\n",
       " 2005,\n",
       " 2006,\n",
       " 2007,\n",
       " 2008,\n",
       " 2009,\n",
       " 2010,\n",
       " 2011,\n",
       " 2012,\n",
       " 2013,\n",
       " 2014,\n",
       " 2015,\n",
       " 2016,\n",
       " 2017,\n",
       " 2019]"
      ]
     },
     "execution_count": 105,
     "metadata": {},
     "output_type": "execute_result"
    }
   ],
   "source": [
    "#Question 03\n",
    "#Lets see the year values\n",
    "years=edu_df['YEAR'].unique()\n",
    "\n",
    "means=[]\n",
    "#Creating a new dataframe only contains year and Grade\n",
    "edu_year_grade=edu_df[['YEAR', 'GRADES_PK_G']].copy()\n",
    "#printing years\n",
    "years=sorted(years)\n",
    "years"
   ]
  },
  {
   "cell_type": "code",
   "execution_count": 117,
   "id": "7e53d667",
   "metadata": {},
   "outputs": [
    {
     "data": {
      "text/plain": [
       "173"
      ]
     },
     "execution_count": 117,
     "metadata": {},
     "output_type": "execute_result"
    }
   ],
   "source": [
    "#Question 03\n",
    "edu_df_mean=edu_df.groupby(\"YEAR\")['GRADES_PK_G'].mean()\n",
    "edu_df[\"GRADES_PK_G\"].isnull().sum()\n"
   ]
  },
  {
   "cell_type": "code",
   "execution_count": 111,
   "id": "0668bf15",
   "metadata": {},
   "outputs": [
    {
     "name": "stderr",
     "output_type": "stream",
     "text": [
      "C:\\Users\\tmedeni\\AppData\\Local\\Temp\\ipykernel_28860\\2617189876.py:28: SettingWithCopyWarning: \n",
      "A value is trying to be set on a copy of a slice from a DataFrame\n",
      "\n",
      "See the caveats in the documentation: https://pandas.pydata.org/pandas-docs/stable/user_guide/indexing.html#returning-a-view-versus-a-copy\n",
      "  GRADES_PK_G[i]=means[y]\n"
     ]
    },
    {
     "data": {
      "text/plain": [
       "0        8224.000000\n",
       "1        2371.000000\n",
       "2        2544.000000\n",
       "3         808.000000\n",
       "4       59067.000000\n",
       "            ...     \n",
       "1710     5387.852941\n",
       "1711     5387.852941\n",
       "1712     5387.852941\n",
       "1713     5387.852941\n",
       "1714     5387.852941\n",
       "Name: GRADES_PK_G, Length: 1715, dtype: float64"
      ]
     },
     "execution_count": 111,
     "metadata": {},
     "output_type": "execute_result"
    }
   ],
   "source": [
    "total=0\n",
    "total_year=0\n",
    "for y in years:\n",
    "    for i in range(0, len(edu_year_grade)):\n",
    "\n",
    "        if y==edu_year_grade.YEAR[i]:\n",
    "            if pd.isnull(GRADES_PK_G[i]):\n",
    "                total_year=total_year\n",
    "                total=total\n",
    "            else:\n",
    "                total_year=total_year+edu_year_grade.GRADES_PK_G[i]\n",
    "                total=total+1\n",
    "    if total!=0:\n",
    "        #print(y, total_year/total)\n",
    "        means.append(total_year/total)   \n",
    "    \n",
    "    total=0\n",
    "    total_year=0\n",
    "#printing the calculated means\n",
    "#means\n",
    "\n",
    "#overwriting null values with yearly mean values\n",
    "for y in range(0,len(years)):\n",
    "    for i in range(0, len(edu_year_grade)):\n",
    "\n",
    "        if years[y]==edu_year_grade.YEAR[i]:\n",
    "            if pd.isnull(GRADES_PK_G[i]):\n",
    "                GRADES_PK_G[i]=means[y]\n",
    "GRADES_PK_G       "
   ]
  },
  {
   "cell_type": "code",
   "execution_count": 113,
   "id": "9c57501c",
   "metadata": {},
   "outputs": [
    {
     "data": {
      "text/plain": [
       "0        8224.0\n",
       "1        2371.0\n",
       "2        2544.0\n",
       "3         808.0\n",
       "4       59067.0\n",
       "         ...   \n",
       "1710        NaN\n",
       "1711        NaN\n",
       "1712        NaN\n",
       "1713        NaN\n",
       "1714        NaN\n",
       "Name: GRADES_PK_G, Length: 1715, dtype: float64"
      ]
     },
     "execution_count": 113,
     "metadata": {},
     "output_type": "execute_result"
    }
   ],
   "source": [
    "edu_df[\"GRADES_PK_G\"]"
   ]
  },
  {
   "cell_type": "code",
   "execution_count": 118,
   "id": "92752de1",
   "metadata": {},
   "outputs": [
    {
     "data": {
      "text/plain": [
       "0"
      ]
     },
     "execution_count": 118,
     "metadata": {},
     "output_type": "execute_result"
    }
   ],
   "source": [
    "GRADES_PK_G.isnull().sum()"
   ]
  },
  {
   "cell_type": "code",
   "execution_count": 119,
   "id": "b6e883d8",
   "metadata": {},
   "outputs": [
    {
     "data": {
      "text/plain": [
       "count      1715.000000\n",
       "mean      16945.349891\n",
       "std       28653.825742\n",
       "min          96.000000\n",
       "25%        2536.500000\n",
       "50%        7262.000000\n",
       "75%       20341.431373\n",
       "max      256222.000000\n",
       "Name: GRADES_PK_G, dtype: float64"
      ]
     },
     "execution_count": 119,
     "metadata": {},
     "output_type": "execute_result"
    }
   ],
   "source": [
    "#result of yearly base mean for missing values\n",
    "GRADES_PK_G.describe()"
   ]
  },
  {
   "cell_type": "code",
   "execution_count": 120,
   "id": "0e4f3948",
   "metadata": {},
   "outputs": [
    {
     "data": {
      "text/plain": [
       "count      1542.000000\n",
       "mean      17840.958495\n",
       "std       30016.603510\n",
       "min          96.000000\n",
       "25%        2199.750000\n",
       "50%        8258.000000\n",
       "75%       22691.750000\n",
       "max      256222.000000\n",
       "Name: GRADES_PK_G, dtype: float64"
      ]
     },
     "execution_count": 120,
     "metadata": {},
     "output_type": "execute_result"
    }
   ],
   "source": [
    "#with the missing values\n",
    "edu_df[\"GRADES_PK_G\"].describe()"
   ]
  },
  {
   "cell_type": "code",
   "execution_count": 121,
   "id": "6be78cd8",
   "metadata": {},
   "outputs": [
    {
     "data": {
      "text/plain": [
       "count      1715.000000\n",
       "mean      17840.958495\n",
       "std       28461.478658\n",
       "min          96.000000\n",
       "25%        2536.500000\n",
       "50%       10310.000000\n",
       "75%       19689.000000\n",
       "max      256222.000000\n",
       "Name: GRADES_PK_G_imputed, dtype: float64"
      ]
     },
     "execution_count": 121,
     "metadata": {},
     "output_type": "execute_result"
    }
   ],
   "source": [
    "#result without yearly base mean for missing values\n",
    "edu_df[\"GRADES_PK_G_imputed\"].describe()"
   ]
  },
  {
   "cell_type": "code",
   "execution_count": 122,
   "id": "8e0a8118",
   "metadata": {},
   "outputs": [],
   "source": [
    "#As you can see with consentrating on yearly bases, a more meaningful result is calculated, especially now we have a totally\n",
    "#different mean values, this gives more logical structure"
   ]
  },
  {
   "cell_type": "code",
   "execution_count": 127,
   "id": "0be8a270",
   "metadata": {},
   "outputs": [
    {
     "data": {
      "text/plain": [
       "0        8224.0\n",
       "1        2371.0\n",
       "2        2544.0\n",
       "3         808.0\n",
       "4       59067.0\n",
       "         ...   \n",
       "1710      671.0\n",
       "1711      671.0\n",
       "1712      671.0\n",
       "1713      671.0\n",
       "1714      671.0\n",
       "Name: GRADES_PK_G, Length: 1715, dtype: float64"
      ]
     },
     "execution_count": 127,
     "metadata": {},
     "output_type": "execute_result"
    }
   ],
   "source": [
    "#Question 4\n",
    "#For the interpolation, the year grouping does not considered\n",
    "interpolated=edu_df.GRADES_PK_G.interpolate(method ='linear', limit_direction ='forward')\n",
    "interpolated"
   ]
  },
  {
   "cell_type": "code",
   "execution_count": 125,
   "id": "5c021ada",
   "metadata": {},
   "outputs": [
    {
     "data": {
      "text/plain": [
       "173"
      ]
     },
     "execution_count": 125,
     "metadata": {},
     "output_type": "execute_result"
    }
   ],
   "source": [
    "edu_df[\"GRADES_PK_G\"].isnull().sum()"
   ]
  },
  {
   "cell_type": "code",
   "execution_count": 124,
   "id": "46fd0f59",
   "metadata": {
    "scrolled": true
   },
   "outputs": [
    {
     "data": {
      "text/plain": [
       "count      1542.000000\n",
       "mean      17840.958495\n",
       "std       30016.603510\n",
       "min          96.000000\n",
       "25%        2199.750000\n",
       "50%        8258.000000\n",
       "75%       22691.750000\n",
       "max      256222.000000\n",
       "Name: GRADES_PK_G, dtype: float64"
      ]
     },
     "execution_count": 124,
     "metadata": {},
     "output_type": "execute_result"
    }
   ],
   "source": [
    "edu_df[\"GRADES_PK_G\"].describe()"
   ]
  },
  {
   "cell_type": "code",
   "execution_count": 128,
   "id": "e50ebcd8",
   "metadata": {},
   "outputs": [
    {
     "data": {
      "text/plain": [
       "0"
      ]
     },
     "execution_count": 128,
     "metadata": {},
     "output_type": "execute_result"
    }
   ],
   "source": [
    "interpolated.isnull().sum()"
   ]
  },
  {
   "cell_type": "code",
   "execution_count": 130,
   "id": "9a1d9613",
   "metadata": {},
   "outputs": [
    {
     "data": {
      "text/plain": [
       "count      1715.000000\n",
       "mean      17088.765889\n",
       "std       29169.489099\n",
       "min          96.000000\n",
       "25%        1891.000000\n",
       "50%        7865.000000\n",
       "75%       20857.500000\n",
       "max      256222.000000\n",
       "Name: GRADES_PK_G, dtype: float64"
      ]
     },
     "execution_count": 130,
     "metadata": {},
     "output_type": "execute_result"
    }
   ],
   "source": [
    "interpolated.describe()"
   ]
  },
  {
   "cell_type": "code",
   "execution_count": null,
   "id": "50c2f90c",
   "metadata": {},
   "outputs": [],
   "source": [
    "#Question05\n",
    "#As it can be concluded, if the missing values are between other values, implementation of interpolation is meaningful, however\n",
    "#in our data set, there are empty values for the whole 2019. Also for the data set, especially the last state values are missing\n",
    "#this cause, the average values calculated with respect to following years, from other states.Especially for this dataset\n",
    "#filling the missing values with the yearly bases is more meaningful. And 2019 totally removed because there is no data \n",
    "#with respect to GRADES_PK_G\n"
   ]
  }
 ],
 "metadata": {
  "kernelspec": {
   "display_name": "Python 3 (ipykernel)",
   "language": "python",
   "name": "python3"
  },
  "language_info": {
   "codemirror_mode": {
    "name": "ipython",
    "version": 3
   },
   "file_extension": ".py",
   "mimetype": "text/x-python",
   "name": "python",
   "nbconvert_exporter": "python",
   "pygments_lexer": "ipython3",
   "version": "3.9.12"
  }
 },
 "nbformat": 4,
 "nbformat_minor": 5
}
